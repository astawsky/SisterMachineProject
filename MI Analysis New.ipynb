{
 "cells": [
  {
   "cell_type": "code",
   "execution_count": 3,
   "metadata": {
    "collapsed": false
   },
   "outputs": [
    {
     "name": "stdout",
     "output_type": "stream",
     "text": [
      "there's been a negative or zero growth_rate found!\n"
     ]
    },
    {
     "name": "stdout",
     "output_type": "stream",
     "text": [
      "length_final <= length_birth, and this so-called \"generation\" was taken out of its dataframe\n"
     ]
    },
    {
     "name": "stdout",
     "output_type": "stream",
     "text": [
      "Sister Generation data Finished\n"
     ]
    },
    {
     "name": "stdout",
     "output_type": "stream",
     "text": [
      "Got the pooled dataframe for Sisters\n"
     ]
    },
    {
     "name": "stdout",
     "output_type": "stream",
     "text": [
      "Got the log pooled dataframe for Sisters\n"
     ]
    },
    {
     "name": "stdout",
     "output_type": "stream",
     "text": [
      "got the intragenerational_dataframes for Sister\n"
     ]
    },
    {
     "name": "stdout",
     "output_type": "stream",
     "text": [
      "Got the _all_raw_protein_data_dict and A/B_raw_protein_data_dict attribute in Sister\ndata_trap_mean\n"
     ]
    }
   ],
   "source": [
    "import SisterMachineDataPipeline as ssc\n",
    "import pandas as pd\n",
    "import matplotlib.pyplot as plt\n",
    "import numpy as np\n",
    "import pickle\n",
    "import os\n",
    "import scipy.stats as stats\n",
    "import seaborn as sns\n",
    "from sklearn.feature_selection import mutual_info_regression, mutual_info_classif\n",
    "import glob\n",
    "\n",
    "# For Mac\n",
    "infiles_sisters = glob.glob(r'/Users/alestawsky/PycharmProjects/untitled/SISTERS/*.xls')\n",
    "infiles_nonsisters = glob.glob(r'/Users/alestawsky/PycharmProjects/untitled/NONSISTERS/*.xls')\n",
    "infiles_sisters_protein = glob.glob(r'/Users/alestawsky/PycharmProjects/untitled/ALLSIS/*.xls')\n",
    "infiles_nonsisters_protein = glob.glob(r'/Users/alestawsky/PycharmProjects/untitled/AllNONSIS/*.xls')\n",
    "\n",
    "# data_trap_median = ssc.SisterCellData(infiles_sister=infiles_sisters, infiles_nonsister=infiles_nonsisters, discretization_variable='length', infiles_sister_protein=infiles_sisters_protein,\n",
    "#         infiles_nonsister_protein=infiles_nonsisters_protein, what_to_subtract='trap median', start_index=None, end_index=None, datasets=['Population', 'Sisters', 'Nonsisters', 'Control'])\n",
    "# print('data_trap_median')\n",
    "\n",
    "# data_trap_mean = ssc.SisterCellData(infiles_sister=infiles_sisters, infiles_nonsister=infiles_nonsisters, discretization_variable='length', infiles_sister_protein=infiles_sisters_protein,\n",
    "#         infiles_nonsister_protein=infiles_nonsisters_protein, what_to_subtract='trap mean', start_index=None, end_index=None, datasets=['Population', 'Sisters', 'Nonsisters', 'Control'])\n",
    "# print('data_trap_mean')\n",
    "data_trap_mean = ssc.SisterCellData(infiles_sister=infiles_sisters, infiles_nonsister=infiles_nonsisters, discretization_variable='length', infiles_sister_protein=infiles_sisters_protein,\n",
    "        infiles_nonsister_protein=infiles_nonsisters_protein, what_to_subtract='trap mean', start_index=None, end_index=None, datasets=['Sisters'])\n",
    "print('data_trap_mean')\n",
    "\n",
    "# data_global_median = ssc.SisterCellData(infiles_sister=infiles_sisters, infiles_nonsister=infiles_nonsisters, discretization_variable='length', infiles_sister_protein=infiles_sisters_protein,\n",
    "#         infiles_nonsister_protein=infiles_nonsisters_protein, what_to_subtract='global median', start_index=None, end_index=None, datasets=['Population', 'Sisters', 'Nonsisters', 'Control'])\n",
    "# print('data_global_median')\n",
    "# \n",
    "# data_global_mean = ssc.SisterCellData(infiles_sister=infiles_sisters, infiles_nonsister=infiles_nonsisters, discretization_variable='length', infiles_sister_protein=infiles_sisters_protein,\n",
    "#         infiles_nonsister_protein=infiles_nonsisters_protein, what_to_subtract='global mean', start_index=None, end_index=None, datasets=['Population', 'Sisters', 'Nonsisters', 'Control'])\n",
    "# print('data_global_mean')\n",
    "\n"
   ]
  },
  {
   "cell_type": "code",
   "execution_count": 5,
   "metadata": {
    "collapsed": false
   },
   "outputs": [
    {
     "name": "stdout",
     "output_type": "stream",
     "text": [
      "     generationtime length_birth length_final growth_rate fold_growth  \\\n0                 0            1            1           0           0   \n1                 0            1            1           1           0   \n2                 0            1            1           1           1   \n3                 1            1            1           1           1   \n4                 0            1            1           1           0   \n5                 0            1            1           0           0   \n6                 0            1            0           0           0   \n7                 1            0            0           0           1   \n8                 1            0            0           1           1   \n9                 1            0            1           1           1   \n10                1            1            1           0           1   \n11                0            1            1           0           0   \n12                0            1            0           0           0   \n13                1            1            0           0           0   \n14                1            0            0           0           0   \n15                1            0            0           1           1   \n16                1            0            1           1           1   \n17                1            1            1           1           1   \n18                1            1            1           0           0   \n19                0            1            1           1           1   \n20                0            1            1           1           1   \n21                1            0            1           0           0   \n22                0            1            0           0           0   \n23                0            1            0           0           0   \n24                1            0            1           1           1   \n25                1            0            1           0           1   \n26                0            1            0           1           0   \n27                0            0            0           0           0   \n28                0            0            0           0           0   \n29                1            0            1           0           1   \n...             ...          ...          ...         ...         ...   \n3411              1            0            0           1           1   \n3412              1            1            1           0           1   \n3413              0            1            1           0           0   \n3414              0            1            1           0           0   \n3415              0            1            1           0           0   \n3416              1            1            1           0           1   \n3417              1            1            0           0           0   \n3418              1            0            0           0           1   \n3419              1            1            0           0           0   \n3420              0            0            0           0           0   \n3421              1            0            1           0           1   \n3422              1            1            1           0           1   \n3423              0            1            1           1           0   \n3424              0            1            0           1           0   \n3425              0            1            0           0           0   \n3426              0            0            0           1           0   \n3427              1            0            1           0           1   \n3428              0            1            1           1           1   \n3429              0            1            1           1           1   \n3430              0            0            0           1           1   \n3431              0            0            0           1           1   \n3432              1            1            1           0           1   \n3433              0            1            1           0           0   \n3434              0            1            0           0           0   \n3435              1            0            0           1           1   \n3436              1            1            1           0           0   \n3437              1            0            0           1           1   \n3438              1            1            0           0           0   \n3439              1            0            0           0           0   \n3440              1            0            0           0           0   \n\n     division_ratio added_length  \n0                 1            0  \n1                 0            1  \n2                 1            1  \n3                 1            1  \n4                 1            0  \n5                 1            0  \n6                 0            0  \n7                 0            1  \n8                 0            1  \n9                 1            1  \n10                1            1  \n11                1            0  \n12                1            0  \n13                0            0  \n14                0            0  \n15                1            0  \n16                0            1  \n17                1            1  \n18                1            1  \n19                0            1  \n20                0            1  \n21                1            1  \n22                1            0  \n23                0            0  \n24                1            1  \n25                0            1  \n26                0            0  \n27                0            0  \n28                1            0  \n29                1            1  \n...             ...          ...  \n3411              1            1  \n3412              1            1  \n3413              0            0  \n3414              1            0  \n3415              1            0  \n3416              1            1  \n3417              0            0  \n3418              1            1  \n3419              0            0  \n3420              0            0  \n3421              0            1  \n3422              0            1  \n3423              1            0  \n3424              1            0  \n3425              0            0  \n3426              0            0  \n3427              0            1  \n3428              0            1  \n3429              0            1  \n3430              1            0  \n3431              1            0  \n3432              0            1  \n3433              0            0  \n3434              1            0  \n3435              1            1  \n3436              0            1  \n3437              1            0  \n3438              1            0  \n3439              0            0  \n3440              0            0  \n\n[3441 rows x 7 columns]\n[0.45451903516419645, 0.0, 0.0, 0.5454809648358036]\n"
     ]
    },
    {
     "ename": "NameError",
     "evalue": "name 'exit' is not defined",
     "traceback": [
      "\u001b[0;31m---------------------------------------------------------------------------\u001b[0m",
      "\u001b[0;31mNameError\u001b[0m                                 Traceback (most recent call last)",
      "\u001b[0;32m<ipython-input-5-7ce0450f1e05>\u001b[0m in \u001b[0;36m<module>\u001b[0;34m\u001b[0m\n\u001b[1;32m     63\u001b[0m \u001b[0;32mfor\u001b[0m \u001b[0mvar1\u001b[0m \u001b[0;32min\u001b[0m \u001b[0mdata_trap_mean\u001b[0m\u001b[0;34m.\u001b[0m\u001b[0m_variable_names\u001b[0m\u001b[0;34m:\u001b[0m\u001b[0;34m\u001b[0m\u001b[0;34m\u001b[0m\u001b[0m\n\u001b[1;32m     64\u001b[0m     \u001b[0;32mfor\u001b[0m \u001b[0mvar2\u001b[0m \u001b[0;32min\u001b[0m \u001b[0mdata_trap_mean\u001b[0m\u001b[0;34m.\u001b[0m\u001b[0m_variable_names\u001b[0m\u001b[0;34m:\u001b[0m\u001b[0;34m\u001b[0m\u001b[0;34m\u001b[0m\u001b[0m\n\u001b[0;32m---> 65\u001b[0;31m         \u001b[0mMI_array\u001b[0m \u001b[0;34m=\u001b[0m \u001b[0mdata_trap_mean\u001b[0m\u001b[0;34m.\u001b[0m\u001b[0mget_entropies_from_labeled_data\u001b[0m\u001b[0;34m(\u001b[0m\u001b[0mA_cut\u001b[0m\u001b[0;34m=\u001b[0m\u001b[0mA_categories\u001b[0m\u001b[0;34m[\u001b[0m\u001b[0mvar1\u001b[0m\u001b[0;34m]\u001b[0m\u001b[0;34m,\u001b[0m \u001b[0mB_cut\u001b[0m\u001b[0;34m=\u001b[0m\u001b[0mA_categories\u001b[0m\u001b[0;34m[\u001b[0m\u001b[0mvar2\u001b[0m\u001b[0;34m]\u001b[0m\u001b[0;34m,\u001b[0m \u001b[0mbins_on_side\u001b[0m\u001b[0;34m=\u001b[0m\u001b[0;36m1\u001b[0m\u001b[0;34m,\u001b[0m \u001b[0mbase_of_log\u001b[0m\u001b[0;34m=\u001b[0m\u001b[0;36m2\u001b[0m\u001b[0;34m)\u001b[0m\u001b[0;34m\u001b[0m\u001b[0;34m\u001b[0m\u001b[0m\n\u001b[0m\u001b[1;32m     66\u001b[0m         \u001b[0mprint\u001b[0m\u001b[0;34m(\u001b[0m\u001b[0mMI_array\u001b[0m\u001b[0;34m)\u001b[0m\u001b[0;34m\u001b[0m\u001b[0;34m\u001b[0m\u001b[0m\n",
      "\u001b[0;32m~/PycharmProjects/untitled/SisterMachineDataPipeline.py\u001b[0m in \u001b[0;36mget_entropies_from_labeled_data\u001b[0;34m(self, A_cut, B_cut, bins_on_side, base_of_log)\u001b[0m\n\u001b[1;32m    171\u001b[0m         print([len(joint_centered[(joint_centered['A'] == label_A) & (joint_centered['B'] == label_B)]) / len(joint_centered) for label_B in\n\u001b[1;32m    172\u001b[0m                                 np.arange(2 * bins_on_side) for label_A in np.arange(2 * bins_on_side)])\n\u001b[0;32m--> 173\u001b[0;31m         \u001b[0mexit\u001b[0m\u001b[0;34m(\u001b[0m\u001b[0;34m)\u001b[0m\u001b[0;34m\u001b[0m\u001b[0;34m\u001b[0m\u001b[0m\n\u001b[0m\u001b[1;32m    174\u001b[0m \u001b[0;34m\u001b[0m\u001b[0m\n\u001b[1;32m    175\u001b[0m         joint_prob_list = dict([('{}_{}'.format(label_A, label_B), len(joint_centered[(joint_centered['A'] == label_A) & (joint_centered['B'] == label_B)]) / len(joint_centered)) for label_B in\n",
      "\u001b[0;31mNameError\u001b[0m: name 'exit' is not defined"
     ],
     "output_type": "error"
    }
   ],
   "source": [
    "\"\"\" labeled data entropy \"\"\"\n",
    "\n",
    "def get_entropies_from_labeled_data(A_cut, B_cut, bins_on_side, base_of_log):\n",
    "    joint_centered = pd.DataFrame({'A': A_cut, 'B': B_cut})\n",
    "\n",
    "    joint_prob_list = dict([('{}_{}'.format(label_A, label_B), len(joint_centered[(joint_centered['A'] == label_A) & (joint_centered['B'] == label_B)]) / len(joint_centered)) for label_B in\n",
    "                            np.arange(2 * bins_on_side) for label_A in np.arange(2 * bins_on_side)])\n",
    "    A_trace_marginal_probs = dict([('{}'.format(label_A), len(A_cut.iloc[np.where(A_cut == label_A)]) / len(A_cut)) for label_A in np.arange(2 * bins_on_side)])\n",
    "    B_trace_marginal_probs = dict([('{}'.format(label_B), len(B_cut.iloc[np.where(B_cut == label_B)]) / len(B_cut)) for label_B in np.arange(2 * bins_on_side)])\n",
    "\n",
    "    # conditioning the A trace based on the B trace\n",
    "    A_conditioned_on_B_entropy = np.array([- joint_prob_list[key] * (np.log(joint_prob_list[key] / A_trace_marginal_probs[key.split('_')[0]]) / np.log(base_of_log)) for key in joint_prob_list.keys() if\n",
    "                                           joint_prob_list[key] != 0 and A_trace_marginal_probs[key.split('_')[0]] != 0]).sum()\n",
    "    B_conditioned_on_A_entropy = np.array([- joint_prob_list[key] * (np.log(joint_prob_list[key] / B_trace_marginal_probs[key.split('_')[1]]) / np.log(base_of_log)) for key in joint_prob_list.keys() if\n",
    "                                           joint_prob_list[key] != 0 and B_trace_marginal_probs[key.split('_')[1]] != 0]).sum()\n",
    "\n",
    "    # the mutual information between A and B trace for this variable thinking that marginal A and B came from each trace distribution\n",
    "    mutual_info_trace = round(np.array(\n",
    "        [joint_prob_list[key] * (np.log(joint_prob_list[key] / (A_trace_marginal_probs[key.split('_')[0]] * B_trace_marginal_probs[key.split('_')[1]]))/ np.log(base_of_log)) for key in joint_prob_list.keys() if\n",
    "         joint_prob_list[key] != 0 and B_trace_marginal_probs[key.split('_')[1]] != 0 and A_trace_marginal_probs[key.split('_')[0]] != 0]).sum(), 14)\n",
    "\n",
    "    # checking joint prob adds up to one\n",
    "    if round(np.array([val for val in joint_prob_list.values()]).sum(), 4) != 1.0:\n",
    "        print('joint prob does not add up to 1.0! it adds up to {}'.format(np.array([val for val in joint_prob_list.values()]).sum()))\n",
    "        exit()\n",
    "\n",
    "    # checking A marginal prob adds up to one\n",
    "    if round(np.array([val for val in A_trace_marginal_probs.values()]).sum(), 4) != 1.0:\n",
    "        print('A_trace_marginal_probs does not add up to 1.0! it adds up to {}'.format(np.array([val for val in A_trace_marginal_probs.values()]).sum()))\n",
    "        exit()\n",
    "\n",
    "    # checking B marginal prob adds up to one\n",
    "    if round(np.array([val for val in B_trace_marginal_probs.values()]).sum(), 4) != 1.0:\n",
    "        print('B_trace_marginal_probs does not add up to 1.0! it adds up to {}'.format(np.array([val for val in B_trace_marginal_probs.values()]).sum()))\n",
    "        exit()\n",
    "\n",
    "    # mutual information cannot be negative\n",
    "    if mutual_info_trace < 0:\n",
    "        print('mutual info is negative! something is wrong...')\n",
    "        print(A_cut)\n",
    "        print(B_cut)\n",
    "        print(joint_prob_list)\n",
    "        print(A_trace_marginal_probs)\n",
    "        print(B_trace_marginal_probs)\n",
    "        print(mutual_info_trace)\n",
    "        for key in joint_prob_list.keys():\n",
    "            print('key:', key)\n",
    "            if joint_prob_list[key] != 0 and B_trace_marginal_probs[key.split('_')[1]] != 0 and A_trace_marginal_probs[key.split('_')[0]] != 0:\n",
    "                print(joint_prob_list[key])\n",
    "                print(A_trace_marginal_probs[key.split('_')[0]])\n",
    "                print(B_trace_marginal_probs[key.split('_')[1]])\n",
    "                print(joint_prob_list[key] * np.log(joint_prob_list[key] / (A_trace_marginal_probs[key.split('_')[0]] * B_trace_marginal_probs[key.split('_')[1]])))\n",
    "        print('_________')\n",
    "        exit()\n",
    "\n",
    "    return mutual_info_trace, A_conditioned_on_B_entropy, B_conditioned_on_A_entropy, joint_prob_list\n",
    "\n",
    "A_categories, B_categories = data_trap_mean.put_the_categories(A_df=data_trap_mean.sis_A_pooled, B_df=data_trap_mean.sis_B_pooled, log_A_df=data_trap_mean.sis_log_A_pooled, \n",
    "    log_B_df=data_trap_mean.sis_log_B_pooled, bins_on_side=1, variable_names=data_trap_mean._variable_names, log_vars=['generationtime', 'length_birth', 'length_final', 'growth_rate', 'fold_growth', 'added_length'])\n",
    "\n",
    "print(A_categories)\n",
    "\n",
    "for var1 in data_trap_mean._variable_names:\n",
    "    for var2 in data_trap_mean._variable_names:\n",
    "        MI_array = data_trap_mean.get_entropies_from_labeled_data(A_cut=A_categories[var1], B_cut=A_categories[var2], bins_on_side=1, base_of_log=2)\n",
    "        print(MI_array)"
   ]
  },
  {
   "cell_type": "code",
   "execution_count": 1,
   "metadata": {},
   "outputs": [],
   "source": []
  },
  {
   "cell_type": "code",
   "execution_count": null,
   "metadata": {},
   "outputs": [],
   "source": []
  }
 ],
 "metadata": {
  "kernelspec": {
   "display_name": "Python 2",
   "language": "python",
   "name": "python2"
  },
  "language_info": {
   "codemirror_mode": {
    "name": "ipython",
    "version": 2
   },
   "file_extension": ".py",
   "mimetype": "text/x-python",
   "name": "python",
   "nbconvert_exporter": "python",
   "pygments_lexer": "ipython2",
   "version": "2.7.6"
  }
 },
 "nbformat": 4,
 "nbformat_minor": 0
}
